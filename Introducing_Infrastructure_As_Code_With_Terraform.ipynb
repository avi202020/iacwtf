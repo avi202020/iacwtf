{
  "nbformat": 4,
  "nbformat_minor": 0,
  "metadata": {
    "colab": {
      "name": "Introducing Infrastructure As Code With Terraform.ipynb",
      "version": "0.3.2",
      "provenance": [],
      "collapsed_sections": [],
      "toc_visible": true,
      "include_colab_link": true
    },
    "kernelspec": {
      "name": "python3",
      "display_name": "Python 3"
    }
  },
  "cells": [
    {
      "cell_type": "markdown",
      "metadata": {
        "id": "view-in-github",
        "colab_type": "text"
      },
      "source": [
        "<a href=\"https://colab.research.google.com/github/rojopolis/iacwtf/blob/master/Introducing_Infrastructure_As_Code_With_Terraform.ipynb\" target=\"_parent\"><img src=\"https://colab.research.google.com/assets/colab-badge.svg\" alt=\"Open In Colab\"/></a>"
      ]
    },
    {
      "cell_type": "markdown",
      "metadata": {
        "id": "d8msaGCzghXL",
        "colab_type": "text"
      },
      "source": [
        "#Introducing Infrastructure As Code With Terraform\n"
      ]
    },
    {
      "cell_type": "markdown",
      "metadata": {
        "id": "e_tB3pXLjwCS",
        "colab_type": "text"
      },
      "source": [
        "##Install Terraform\n",
        "Browse to https://www.terraform.io/downloads.html\n",
        "\n",
        "###Windows\n",
        "\n",
        "```\n",
        "# Download Terraform 0.12 for Windows\n",
        "curl -o terraform.zip https://releases.hashicorp.com/terraform/0.12.0/terraform_0.12.0_windows_amd64.zip\n",
        "\n",
        "# Extract to C:\\tools\n",
        "powershell.exe -nologo -noprofile -command \"& { Add-Type -A 'System.IO.Compression.FileSystem'; [IO.Compression.ZipFile]::ExtractToDirectory('terraform.zip', 'c:\\tools'); }\"\n",
        "\n",
        "# Set PATH environment variable\n",
        "set PATH=\"%PATH%;C:\\tools\"\n",
        "setx PATH \"%PATH%\"\n",
        "\n",
        "# Cleanup\n",
        "del terraform.zip\n",
        "```\n",
        "\n",
        "### Mac & Linux\n",
        "```\n",
        "# Detrmine which OS we're running\n",
        "export OS=$(uname | tr '[:upper:]' '[:lower:]')\n",
        "\n",
        "# Download Terraform 0.12 for the correct OS\n",
        "curl -o terraform.zip https://releases.hashicorp.com/terraform/0.12.0/terraform_0.12.0_${OS}_amd64.zip\n",
        "\n",
        "# Unzip Terraform binary\n",
        "unzip -fd /usr/local/bin terraform.zip\n",
        "\n",
        "# Cleanup\n",
        "rm -f terraform.zip\n",
        "```"
      ]
    },
    {
      "cell_type": "code",
      "metadata": {
        "id": "tSVZ-MGh3RDA",
        "colab_type": "code",
        "colab": {}
      },
      "source": [
        "#@title Install Terraform in this notebook { display-mode: \"form\" }\n",
        "%%bash\n",
        "cd\n",
        "curl -s -o terraform.zip https://releases.hashicorp.com/terraform/0.12.0/terraform_0.12.0_linux_amd64.zip\n",
        "unzip terraform.zip > /dev/null\n",
        "mv -f terraform /usr/local/bin"
      ],
      "execution_count": 0,
      "outputs": []
    },
    {
      "cell_type": "code",
      "metadata": {
        "id": "19WC8F_J44Vg",
        "colab_type": "code",
        "colab": {
          "base_uri": "https://localhost:8080/",
          "height": 34
        },
        "outputId": "f704e77f-525e-4c5e-d689-cad8cd4c9c05"
      },
      "source": [
        "#@title Clone Github Repo { display-mode: \"form\" }\n",
        "%%bash\n",
        "cd /content\n",
        "rm -rf * .* 2> /dev/null\n",
        "git clone https://github.com/rojopolis/iacwtf.git src\n",
        "mv src/terraform .\n",
        "rm -rf src"
      ],
      "execution_count": 2,
      "outputs": [
        {
          "output_type": "stream",
          "text": [
            "Cloning into 'src'...\n"
          ],
          "name": "stderr"
        }
      ]
    },
    {
      "cell_type": "code",
      "metadata": {
        "id": "LFqiuk-TTblK",
        "colab_type": "code",
        "colab": {}
      },
      "source": [
        "%load /content/terraform/hello_terraform/hello.tf"
      ],
      "execution_count": 0,
      "outputs": []
    }
  ]
}